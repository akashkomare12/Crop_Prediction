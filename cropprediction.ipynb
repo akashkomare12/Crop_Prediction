{
 "cells": [
  {
   "cell_type": "code",
   "execution_count": 1,
   "id": "0ffe77b1",
   "metadata": {},
   "outputs": [
    {
     "name": "stderr",
     "output_type": "stream",
     "text": [
      "WARNING:absl:Compiled the loaded model, but the compiled metrics have yet to be built. `model.compile_metrics` will be empty until you train or evaluate the model.\n"
     ]
    }
   ],
   "source": [
    "from tensorflow.keras.models import load_model\n",
    "model = load_model('cropprediction.h5')"
   ]
  },
  {
   "cell_type": "code",
   "execution_count": 2,
   "id": "bc356b96",
   "metadata": {},
   "outputs": [],
   "source": [
    "import cv2\n",
    "def get_class(filepath):\n",
    "    A = cv2.imread(filepath)\n",
    "    A = cv2.resize(A,(224,224)) # Resizing image to 224x224\n",
    "    A = A/225\n",
    "    A = A.reshape(1,224,224,3) # Reshaping to match model input\n",
    "    y = model.predict(A,verbos=0).argmax() # Predicting the class\n",
    "    if y==0 :\n",
    "        a = 'jute'\n",
    "    elif y==1:\n",
    "        a = 'maize'\n",
    "    elif y==2:\n",
    "        a = 'rice'\n",
    "    elif y==3:\n",
    "        a = 'sugarcane'\n",
    "    elif y==4: \n",
    "        a = 'wheat'\n",
    "    return a "
   ]
  },
  {
   "cell_type": "code",
   "execution_count": 21,
   "id": "7bd82ab4",
   "metadata": {},
   "outputs": [
    {
     "name": "stdout",
     "output_type": "stream",
     "text": [
      "\u001b[1m1/1\u001b[0m \u001b[32m━━━━━━━━━━━━━━━━━━━━\u001b[0m\u001b[37m\u001b[0m \u001b[1m0s\u001b[0m 164ms/step\n"
     ]
    },
    {
     "data": {
      "text/plain": [
       "'rice'"
      ]
     },
     "execution_count": 21,
     "metadata": {},
     "output_type": "execute_result"
    }
   ],
   "source": [
    "get_class('../../datasets/cropprediction/rice.jpg')"
   ]
  },
  {
   "cell_type": "code",
   "execution_count": null,
   "id": "90beacae",
   "metadata": {},
   "outputs": [],
   "source": []
  }
 ],
 "metadata": {
  "kernelspec": {
   "display_name": "Python (tf_env)",
   "language": "python",
   "name": "tf_env"
  },
  "language_info": {
   "codemirror_mode": {
    "name": "ipython",
    "version": 3
   },
   "file_extension": ".py",
   "mimetype": "text/x-python",
   "name": "python",
   "nbconvert_exporter": "python",
   "pygments_lexer": "ipython3",
   "version": "3.9.19"
  }
 },
 "nbformat": 4,
 "nbformat_minor": 5
}
